{
 "cells": [
  {
   "cell_type": "code",
   "execution_count": 8,
   "metadata": {},
   "outputs": [
    {
     "name": "stdout",
     "output_type": "stream",
     "text": [
      "Directory: .\n",
      "  - pages\n",
      "  - public\n",
      "  - src\n",
      "  - .gitignore\n",
      "  - eslint.config.js\n",
      "  - helper.ipynb\n",
      "  - index.html\n",
      "  - package-lock.json\n",
      "  - package.json\n",
      "  - README.md\n",
      "  - tsconfig.app.json\n",
      "  - tsconfig.json\n",
      "  - tsconfig.node.json\n",
      "  - vite.config.ts\n",
      "Directory: .\\pages\n",
      "Directory: .\\public\n",
      "  - vite.svg\n",
      "Directory: .\\src\n",
      "  - assets\n",
      "  - App.css\n",
      "  - App.tsx\n",
      "  - index.css\n",
      "  - main.tsx\n",
      "Directory: .\\src\\assets\n",
      "  - react.svg\n"
     ]
    }
   ],
   "source": [
    "import os\n",
    "import fnmatch\n",
    "\n",
    "# Patterns to exclude\n",
    "exclude_patterns = [\n",
    "    'logs', '*.log', 'npm-debug.log*', 'yarn-debug.log*', 'yarn-error.log*', 'pnpm-debug.log*', 'lerna-debug.log*',\n",
    "    'node_modules', 'dist', 'dist-ssr', '*.local', '.vscode/*', '.idea', '.DS_Store', '*.suo', '*.ntvs*', '*.njsproj',\n",
    "    '*.sln', '*.sw?', 'npm-debug.log', 'yarn-error.log', 'dist', 'build', '.next', 'out', '.cache', '*.tmp',\n",
    "    '*.swp', '*.swo', '*.bak', '*.js.map', '*.jsx.map', '*.ts.map', '*.tsx.map', '.vscode', '.idea', '*.sublime-project',\n",
    "    '*.sublime-workspace', '.DS_Store', 'Thumbs.db', 'ehthumbs.db', '.env', '.env.local', '.env.*.local', 'coverage',\n",
    "    '.cache', '*.d.ts'\n",
    "]\n",
    "\n",
    "def should_exclude(name):\n",
    "    for pattern in exclude_patterns:\n",
    "        if fnmatch.fnmatch(name, pattern):\n",
    "            # print(f\"Excluding {name} due to pattern {pattern}\")\n",
    "            return True\n",
    "    # print(f\"Not excluding {name}\")\n",
    "    return False\n",
    "\n",
    "def list_directories(path='.'):\n",
    "    for root, dirs, files in os.walk(path):\n",
    "        # Filter out directories and files to exclude\n",
    "        # print(f\"Checking directories in {root}\")\n",
    "        dirs[:] = [d for d in dirs if not should_exclude(d)]\n",
    "        # print(f\"Remaining directories: {dirs}\")\n",
    "        \n",
    "        # print(f\"Checking files in {root}\")\n",
    "        files = [f for f in files if not should_exclude(f)]\n",
    "        # print(f\"Remaining files: {files}\")\n",
    "        \n",
    "        # Print the current directory\n",
    "        print(f\"Directory: {root}\")\n",
    "        \n",
    "        # Print the subdirectories with dashes\n",
    "        for subdir in dirs:\n",
    "            print(f\"  - {subdir}\")\n",
    "\n",
    "        # Print the files with dashes\n",
    "        for file in files:\n",
    "            print(f\"  - {file}\")\n",
    "\n",
    "        # print()  # Blank line for better readability\n",
    "\n",
    "# Call the function\n",
    "list_directories()"
   ]
  }
 ],
 "metadata": {
  "kernelspec": {
   "display_name": "base",
   "language": "python",
   "name": "python3"
  },
  "language_info": {
   "codemirror_mode": {
    "name": "ipython",
    "version": 3
   },
   "file_extension": ".py",
   "mimetype": "text/x-python",
   "name": "python",
   "nbconvert_exporter": "python",
   "pygments_lexer": "ipython3",
   "version": "3.12.4"
  }
 },
 "nbformat": 4,
 "nbformat_minor": 2
}
